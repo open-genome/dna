{
 "cells": [
  {
   "cell_type": "code",
   "execution_count": 2,
   "metadata": {},
   "outputs": [
    {
     "name": "stderr",
     "output_type": "stream",
     "text": [
      "\u001b[34m\u001b[1mwandb\u001b[0m: Currently logged in as: \u001b[33mwhaterveranyway\u001b[0m (\u001b[33mzjucv\u001b[0m). Use \u001b[1m`wandb login --relogin`\u001b[0m to force relogin\n",
      "\u001b[34m\u001b[1mwandb\u001b[0m: \u001b[33mWARNING\u001b[0m If you're specifying your api key in code, ensure this code is not shared publicly.\n",
      "\u001b[34m\u001b[1mwandb\u001b[0m: \u001b[33mWARNING\u001b[0m Consider setting the WANDB_API_KEY environment variable, or running `wandb login` from the command line.\n",
      "\u001b[34m\u001b[1mwandb\u001b[0m: Appending key for api.wandb.ai to your netrc file: /home/xt86/.netrc\n"
     ]
    },
    {
     "data": {
      "text/html": [
       "wandb version 0.17.5 is available!  To upgrade, please run:\n",
       " $ pip install wandb --upgrade"
      ],
      "text/plain": [
       "<IPython.core.display.HTML object>"
      ]
     },
     "metadata": {},
     "output_type": "display_data"
    },
    {
     "data": {
      "text/html": [
       "Tracking run with wandb version 0.17.3"
      ],
      "text/plain": [
       "<IPython.core.display.HTML object>"
      ]
     },
     "metadata": {},
     "output_type": "display_data"
    },
    {
     "data": {
      "text/html": [
       "Run data is saved locally in <code>/gpfs/gibbs/pi/gerstein/xt86/by/hyena-dna/wandb/run-20240720_030505-8nalvckn</code>"
      ],
      "text/plain": [
       "<IPython.core.display.HTML object>"
      ]
     },
     "metadata": {},
     "output_type": "display_data"
    },
    {
     "data": {
      "text/html": [
       "Syncing run <strong><a href='https://wandb.ai/whaterveranyway/glm/runs/8nalvckn' target=\"_blank\">bumbling-totem-2</a></strong> to <a href='https://wandb.ai/whaterveranyway/glm' target=\"_blank\">Weights & Biases</a> (<a href='https://wandb.me/run' target=\"_blank\">docs</a>)<br/>"
      ],
      "text/plain": [
       "<IPython.core.display.HTML object>"
      ]
     },
     "metadata": {},
     "output_type": "display_data"
    },
    {
     "data": {
      "text/html": [
       " View project at <a href='https://wandb.ai/whaterveranyway/glm' target=\"_blank\">https://wandb.ai/whaterveranyway/glm</a>"
      ],
      "text/plain": [
       "<IPython.core.display.HTML object>"
      ]
     },
     "metadata": {},
     "output_type": "display_data"
    },
    {
     "data": {
      "text/html": [
       " View run at <a href='https://wandb.ai/whaterveranyway/glm/runs/8nalvckn' target=\"_blank\">https://wandb.ai/whaterveranyway/glm/runs/8nalvckn</a>"
      ],
      "text/plain": [
       "<IPython.core.display.HTML object>"
      ]
     },
     "metadata": {},
     "output_type": "display_data"
    },
    {
     "data": {
      "text/html": [
       " View run <strong style=\"color:#cdcd00\">bumbling-totem-2</strong> at: <a href='https://wandb.ai/whaterveranyway/glm/runs/8nalvckn' target=\"_blank\">https://wandb.ai/whaterveranyway/glm/runs/8nalvckn</a><br/> View project at: <a href='https://wandb.ai/whaterveranyway/glm' target=\"_blank\">https://wandb.ai/whaterveranyway/glm</a><br/>Synced 4 W&B file(s), 0 media file(s), 0 artifact file(s) and 1 other file(s)"
      ],
      "text/plain": [
       "<IPython.core.display.HTML object>"
      ]
     },
     "metadata": {},
     "output_type": "display_data"
    },
    {
     "data": {
      "text/html": [
       "Find logs at: <code>./wandb/run-20240720_030505-8nalvckn/logs</code>"
      ],
      "text/plain": [
       "<IPython.core.display.HTML object>"
      ]
     },
     "metadata": {},
     "output_type": "display_data"
    },
    {
     "data": {
      "text/html": [
       "The new W&B backend becomes opt-out in version 0.18.0; try it out with `wandb.require(\"core\")`! See https://wandb.me/wandb-core for more information."
      ],
      "text/plain": [
       "<IPython.core.display.HTML object>"
      ]
     },
     "metadata": {},
     "output_type": "display_data"
    }
   ],
   "source": [
    "import wandb\n",
    "import os\n",
    "\n",
    "api_key = \"ed96694f53a6d97d5550ad5db5a5cdee06b0257b\"\n",
    "\n",
    "wandb.login(key=api_key)\n",
    "\n",
    "project_name = \"glm\"\n",
    "entity_name = \"whaterveranyway\"\n",
    "\n",
    "wandb.init(project=project_name, entity=entity_name)\n",
    "\n",
    "log_dir = \"/gpfs/gibbs/pi/gerstein/xt86/by/hyena-dna/outputs/2024-07-17/11-57-01-495655/wandb/latest-run\"\n",
    "\n",
    "assert os.path.exists(log_dir), \"日志文件夹不存在\"\n",
    "\n",
    "log_files = [f for f in os.listdir(log_dir) if os.path.isfile(os.path.join(log_dir, f))]\n",
    "\n",
    "for log_file in log_files:\n",
    "    wandb.save(os.path.join(log_dir, log_file))\n",
    "\n",
    "wandb.finish()\n"
   ]
  },
  {
   "cell_type": "code",
   "execution_count": 1,
   "metadata": {},
   "outputs": [
    {
     "name": "stderr",
     "output_type": "stream",
     "text": [
      "/home/by/miniconda3/envs/hyena-dna/lib/python3.8/site-packages/tqdm/auto.py:21: TqdmWarning: IProgress not found. Please update jupyter and ipywidgets. See https://ipywidgets.readthedocs.io/en/stable/user_install.html\n",
      "  from .autonotebook import tqdm as notebook_tqdm\n",
      "/mnt/nas/share2/home/by/hyena-dna/src/models/sequence/convNext.py:264: UserWarning: Overwriting convnext_tiny in registry with src.models.sequence.convNext.convnext_tiny. This is because the name being registered conflicts with an existing name. Please check if this is not expected.\n",
      "  def convnext_tiny(pretrained=False,in_22k=False, **kwargs):\n",
      "/mnt/nas/share2/home/by/hyena-dna/src/models/sequence/convNext.py:273: UserWarning: Overwriting convnext_small in registry with src.models.sequence.convNext.convnext_small. This is because the name being registered conflicts with an existing name. Please check if this is not expected.\n",
      "  def convnext_small(pretrained=False,in_22k=False, **kwargs):\n",
      "/mnt/nas/share2/home/by/hyena-dna/src/models/sequence/convNext.py:282: UserWarning: Overwriting convnext_base in registry with src.models.sequence.convNext.convnext_base. This is because the name being registered conflicts with an existing name. Please check if this is not expected.\n",
      "  def convnext_base(pretrained=False, in_22k=False, **kwargs):\n",
      "/mnt/nas/share2/home/by/hyena-dna/src/models/sequence/convNext.py:291: UserWarning: Overwriting convnext_large in registry with src.models.sequence.convNext.convnext_large. This is because the name being registered conflicts with an existing name. Please check if this is not expected.\n",
      "  def convnext_large(pretrained=False, in_22k=False, **kwargs):\n",
      "/mnt/nas/share2/home/by/hyena-dna/src/models/sequence/convNext.py:300: UserWarning: Overwriting convnext_xlarge in registry with src.models.sequence.convNext.convnext_xlarge. This is because the name being registered conflicts with an existing name. Please check if this is not expected.\n",
      "  def convnext_xlarge(pretrained=False, in_22k=False, **kwargs):\n"
     ]
    }
   ],
   "source": [
    "import time\n",
    "import sys\n",
    "sys.path.append(\"/mnt/nas/share2/home/by/hyena-dna\")\n",
    "import os\n",
    "os.environ[\"CUDA_VISIBLE_DEVICES\"] = \"0\"\n",
    "os.environ[\"HF_ENDPOINT\"] = \"https://hf-mirror.com\"\n",
    "from src.models.sequence.denoise import CNNModel\n",
    "from src.models.sequence.caduceus import Caduceus\n",
    "from src.models.sequence.caduceus import  Hyena\n",
    "from omegaconf import DictConfig\n",
    "import torch\n",
    "import math\n"
   ]
  },
  {
   "cell_type": "code",
   "execution_count": 3,
   "metadata": {},
   "outputs": [],
   "source": [
    "args = DictConfig({\n",
    "    \"clean_data\": False,\n",
    "    \"hidden_dim\": 512,\n",
    "    \"cls_expanded_simplex\": True,\n",
    "    \"mode\": \"dirichlet\",\n",
    "    \"num_cnn_stacks\": 1,\n",
    "    \"dropout\": 0.0,\n",
    "    \"cls_free_guidance\": False,\n",
    "    \"alpha_max\": 8,\n",
    "    \"fix_alpha\": 1e6,\n",
    "    \"alpha_scale\": 2,\n",
    "    \"prior_pseudocount\": 2,\n",
    "    \"seed\": 2222,\n",
    "})\n",
    "dcgcnn = CNNModel(args, 5, 0,classifier=False, for_representation=True, pretrain=False, dilation=4, kernel_size=9, mlp=True, out_dim=2, length=248, use_outlinear=False, forget=True, num_conv1d=5, d_inner=2, final_conv=True, use_comp=True).to(\"cuda\")"
   ]
  },
  {
   "cell_type": "code",
   "execution_count": 41,
   "metadata": {},
   "outputs": [
    {
     "name": "stderr",
     "output_type": "stream",
     "text": [
      "Explicitly passing a `revision` is encouraged when loading a configuration with custom code to ensure no malicious code has been contributed in a newer revision.\n",
      "Explicitly passing a `revision` is encouraged when loading a model with custom code to ensure no malicious code has been contributed in a newer revision.\n",
      "Some weights of CaduceusForMaskedLM were not initialized from the model checkpoint at kuleshov-group/caduceus-ph_seqlen-131k_d_model-256_n_layer-16 and are newly initialized: ['lm_head.weight']\n",
      "You should probably TRAIN this model on a down-stream task to be able to use it for predictions and inference.\n"
     ]
    }
   ],
   "source": [
    "caduceus = Caduceus(mode=\"ph\", size=7.7, out_dim=2).to(\"cuda\")"
   ]
  },
  {
   "cell_type": "code",
   "execution_count": 8,
   "metadata": {},
   "outputs": [
    {
     "name": "stderr",
     "output_type": "stream",
     "text": [
      "Explicitly passing a `revision` is encouraged when loading a configuration with custom code to ensure no malicious code has been contributed in a newer revision.\n",
      "Explicitly passing a `revision` is encouraged when loading a model with custom code to ensure no malicious code has been contributed in a newer revision.\n",
      "Some weights of the model checkpoint at LongSafari/hyenadna-large-1m-seqlen-hf were not used when initializing HyenaDNAForSequenceClassification: ['lm_head.weight']\n",
      "- This IS expected if you are initializing HyenaDNAForSequenceClassification from the checkpoint of a model trained on another task or with another architecture (e.g. initializing a BertForSequenceClassification model from a BertForPreTraining model).\n",
      "- This IS NOT expected if you are initializing HyenaDNAForSequenceClassification from the checkpoint of a model that you expect to be exactly identical (initializing a BertForSequenceClassification model from a BertForSequenceClassification model).\n",
      "Some weights of HyenaDNAForSequenceClassification were not initialized from the model checkpoint at LongSafari/hyenadna-large-1m-seqlen-hf and are newly initialized: ['score.weight']\n",
      "You should probably TRAIN this model on a down-stream task to be able to use it for predictions and inference.\n"
     ]
    }
   ],
   "source": [
    "hyena = Hyena(4500, 2).to(\"cuda\")"
   ]
  },
  {
   "cell_type": "code",
   "execution_count": 4,
   "metadata": {},
   "outputs": [],
   "source": [
    "B = 1\n",
    "L = 10000"
   ]
  },
  {
   "cell_type": "code",
   "execution_count": 7,
   "metadata": {},
   "outputs": [
    {
     "name": "stdout",
     "output_type": "stream",
     "text": [
      "dcgcnn Inference time: 2.250088742879009\n"
     ]
    }
   ],
   "source": [
    "import time\n",
    "import torch\n",
    "from torch.utils.data import DataLoader\n",
    "\n",
    "# 定义模型\n",
    "\n",
    "total_time = 0\n",
    "itrs = 100\n",
    "dcgcnn.eval()\n",
    "for i in range(itrs):\n",
    "    input_data = torch.randint(0, 4, (B, L)).cuda()  # 创建一个形状为[B, L]的序列，序列中都是int，从0-3\n",
    "\n",
    "    # 确保所有初始化的CUDA操作都已完成\n",
    "    torch.cuda.synchronize()\n",
    "\n",
    "    # 开始计时\n",
    "    start = time.time()\n",
    "\n",
    "    # 运行模型\n",
    "    output = dcgcnn(input_data)\n",
    "\n",
    "    # 确保所有CUDA操作都已完成\n",
    "    torch.cuda.synchronize()\n",
    "\n",
    "    # 结束计时\n",
    "    end = time.time()\n",
    "    total_time += end-start\n",
    "\n",
    "# 打印运行时间\n",
    "print('dcgcnn Inference time:', math.log(total_time/itrs*1000))\n",
    "del dcgcnn, input_data"
   ]
  },
  {
   "cell_type": "code",
   "execution_count": 8,
   "metadata": {},
   "outputs": [
    {
     "name": "stderr",
     "output_type": "stream",
     "text": [
      "/mnt/nas/share2/home/by/hyena-dna/src/models/sequence/caduceus.py:40: UserWarning: To copy construct from a tensor, it is recommended to use sourceTensor.clone().detach() or sourceTensor.clone().detach().requires_grad_(True), rather than torch.tensor(sourceTensor).\n",
      "  input_ids_tensor = torch.tensor(input_ids)\n"
     ]
    },
    {
     "name": "stdout",
     "output_type": "stream",
     "text": [
      "caduceus Inference time: 4.876486111191305\n"
     ]
    }
   ],
   "source": [
    "import time\n",
    "import torch\n",
    "from torch.utils.data import DataLoader\n",
    "\n",
    "# 定义模型\n",
    "\n",
    "total_time = 0\n",
    "itrs = 100\n",
    "caduceus.eval()\n",
    "for i in range(itrs):\n",
    "    input_data = torch.randint(0, 4, (B, L)).cuda()  # 创建一个形状为[B, L]的序列，序列中都是int，从0-3\n",
    "\n",
    "    # 确保所有初始化的CUDA操作都已完成\n",
    "    torch.cuda.synchronize()\n",
    "\n",
    "    # 开始计时\n",
    "    start = time.time()\n",
    "\n",
    "    # 运行模型\n",
    "    output = caduceus(input_data)\n",
    "\n",
    "    # 确保所有CUDA操作都已完成\n",
    "    torch.cuda.synchronize()\n",
    "\n",
    "    # 结束计时\n",
    "    end = time.time()\n",
    "    total_time += end-start\n",
    "\n",
    "# 打印运行时间\n",
    "print('caduceus Inference time:', math.log(total_time/itrs*1000))\n",
    "del caduceus, input_data"
   ]
  },
  {
   "cell_type": "code",
   "execution_count": 9,
   "metadata": {},
   "outputs": [
    {
     "name": "stdout",
     "output_type": "stream",
     "text": [
      "hyena Inference time: 1.335824827441141\n"
     ]
    }
   ],
   "source": [
    "import time\n",
    "import torch\n",
    "from torch.utils.data import DataLoader\n",
    "\n",
    "# 定义模型\n",
    "\n",
    "# 创建一个模拟的输入数据\n",
    "B = 32  # 批量大小\n",
    "L = 1000  # 序列长度\n",
    "total_time = 0\n",
    "itrs = 100\n",
    "hyena.eval()\n",
    "for i in range(itrs):\n",
    "    input_data = torch.randint(0, 4, (B, L)).cuda()  # 创建一个形状为[B, L]的序列，序列中都是int，从0-3\n",
    "\n",
    "    # 确保所有初始化的CUDA操作都已完成\n",
    "    torch.cuda.synchronize()\n",
    "\n",
    "    # 开始计时\n",
    "    start = time.time()\n",
    "\n",
    "    # 运行模型\n",
    "    output = hyena(input_data)\n",
    "\n",
    "    # 确保所有CUDA操作都已完成\n",
    "    torch.cuda.synchronize()\n",
    "\n",
    "    # 结束计时\n",
    "    end = time.time()\n",
    "    total_time += end-start\n",
    "\n",
    "# 打印运行时间\n",
    "print('hyena Inference time:', math.log(total_time/itrs*1000))\n",
    "del hyena, input_data"
   ]
  },
  {
   "cell_type": "code",
   "execution_count": 17,
   "metadata": {},
   "outputs": [
    {
     "name": "stdout",
     "output_type": "stream",
     "text": [
      "[INFO] Register count_convNd() for <class 'torch.nn.modules.conv.Conv1d'>.\n",
      "[INFO] Register count_linear() for <class 'torch.nn.modules.linear.Linear'>.\n",
      "[INFO] Register count_normalization() for <class 'torch.nn.modules.normalization.LayerNorm'>.\n",
      "[INFO] Register zero_ops() for <class 'torch.nn.modules.container.Sequential'>.\n",
      "[INFO] Register zero_ops() for <class 'torch.nn.modules.dropout.Dropout'>.\n",
      "FLOPs:  55107584000.0\n",
      "Params:  1721472.0\n"
     ]
    }
   ],
   "source": [
    "from thop import profile\n",
    "import torch\n",
    "\n",
    "input_data = torch.randint(0, 4, (B, L)).cuda()\n",
    "# 使用profile函数计算FLOPs\n",
    "macs, params = profile(dcgcnn, inputs=(input_data, ))\n",
    "\n",
    "print('FLOPs: ', macs)\n",
    "print('Params: ', params)"
   ]
  },
  {
   "cell_type": "code",
   "execution_count": 20,
   "metadata": {},
   "outputs": [
    {
     "name": "stdout",
     "output_type": "stream",
     "text": [
      "[INFO] Register count_linear() for <class 'torch.nn.modules.linear.Linear'>.\n",
      "[INFO] Register count_convNd() for <class 'torch.nn.modules.conv.Conv1d'>.\n",
      "FLOPs:  16384.0\n",
      "Params:  512.0\n"
     ]
    },
    {
     "name": "stderr",
     "output_type": "stream",
     "text": [
      "/mnt/nas/share2/home/by/hyena-dna/src/models/sequence/caduceus.py:40: UserWarning: To copy construct from a tensor, it is recommended to use sourceTensor.clone().detach() or sourceTensor.clone().detach().requires_grad_(True), rather than torch.tensor(sourceTensor).\n",
      "  input_ids_tensor = torch.tensor(input_ids)\n"
     ]
    }
   ],
   "source": [
    "from thop import profile\n",
    "import torch\n",
    "\n",
    "input_data = torch.randint(0, 4, (B, L)).cuda()\n",
    "# 使用profile函数计算FLOPs\n",
    "macs, params = profile(caduceus, inputs=(input_data, ))\n",
    "\n",
    "print('FLOPs: ', macs)\n",
    "print('Params: ', params)"
   ]
  },
  {
   "cell_type": "code",
   "execution_count": 9,
   "metadata": {},
   "outputs": [
    {
     "name": "stdout",
     "output_type": "stream",
     "text": [
      "[INFO] Register zero_ops() for <class 'torch.nn.modules.dropout.Dropout'>.\n",
      "[INFO] Register count_linear() for <class 'torch.nn.modules.linear.Linear'>.\n",
      "[INFO] Register count_convNd() for <class 'torch.nn.modules.conv.Conv1d'>.\n",
      "[INFO] Register zero_ops() for <class 'torch.nn.modules.container.Sequential'>.\n",
      "[INFO] Register count_normalization() for <class 'torch.nn.modules.normalization.LayerNorm'>.\n",
      "FLOPs:  65269796864.0\n",
      "Params:  6544384.0\n"
     ]
    }
   ],
   "source": [
    "from thop import profile\n",
    "import torch\n",
    "\n",
    "input_data = torch.randint(0, 4, (B, L)).cuda()\n",
    "# 使用profile函数计算FLOPs\n",
    "macs, params = profile(hyena, inputs=(input_data, ))\n",
    "\n",
    "print('FLOPs: ', macs)\n",
    "print('Params: ', params)"
   ]
  },
  {
   "cell_type": "code",
   "execution_count": 4,
   "metadata": {},
   "outputs": [
    {
     "name": "stdout",
     "output_type": "stream",
     "text": [
      "dcgcnn Number of parameter: 27.33M\n"
     ]
    },
    {
     "ename": "NameError",
     "evalue": "name 'caduceus' is not defined",
     "output_type": "error",
     "traceback": [
      "\u001b[0;31m---------------------------------------------------------------------------\u001b[0m",
      "\u001b[0;31mNameError\u001b[0m                                 Traceback (most recent call last)",
      "Cell \u001b[0;32mIn[4], line 5\u001b[0m\n\u001b[1;32m      3\u001b[0m total \u001b[38;5;241m=\u001b[39m \u001b[38;5;28msum\u001b[39m([param\u001b[38;5;241m.\u001b[39mnelement() \u001b[38;5;28;01mfor\u001b[39;00m param \u001b[38;5;129;01min\u001b[39;00m dcgcnn\u001b[38;5;241m.\u001b[39mparameters()])\n\u001b[1;32m      4\u001b[0m \u001b[38;5;28mprint\u001b[39m(\u001b[38;5;124m\"\u001b[39m\u001b[38;5;124mdcgcnn Number of parameter: \u001b[39m\u001b[38;5;132;01m%.2f\u001b[39;00m\u001b[38;5;124mM\u001b[39m\u001b[38;5;124m\"\u001b[39m \u001b[38;5;241m%\u001b[39m (total\u001b[38;5;241m/\u001b[39m\u001b[38;5;241m1e6\u001b[39m))\n\u001b[0;32m----> 5\u001b[0m total \u001b[38;5;241m=\u001b[39m \u001b[38;5;28msum\u001b[39m([param\u001b[38;5;241m.\u001b[39mnelement() \u001b[38;5;28;01mfor\u001b[39;00m param \u001b[38;5;129;01min\u001b[39;00m \u001b[43mcaduceus\u001b[49m\u001b[38;5;241m.\u001b[39mparameters()])\n\u001b[1;32m      6\u001b[0m \u001b[38;5;28mprint\u001b[39m(\u001b[38;5;124m\"\u001b[39m\u001b[38;5;124mcaduceus Number of parameter: \u001b[39m\u001b[38;5;132;01m%.2f\u001b[39;00m\u001b[38;5;124mM\u001b[39m\u001b[38;5;124m\"\u001b[39m \u001b[38;5;241m%\u001b[39m (total\u001b[38;5;241m/\u001b[39m\u001b[38;5;241m1e6\u001b[39m))\n\u001b[1;32m      7\u001b[0m total \u001b[38;5;241m=\u001b[39m \u001b[38;5;28msum\u001b[39m([param\u001b[38;5;241m.\u001b[39mnelement() \u001b[38;5;28;01mfor\u001b[39;00m param \u001b[38;5;129;01min\u001b[39;00m hyena\u001b[38;5;241m.\u001b[39mparameters()])\n",
      "\u001b[0;31mNameError\u001b[0m: name 'caduceus' is not defined"
     ]
    },
    {
     "ename": "",
     "evalue": "",
     "output_type": "error",
     "traceback": [
      "\u001b[1;31mThe Kernel crashed while executing code in the current cell or a previous cell. \n",
      "\u001b[1;31mPlease review the code in the cell(s) to identify a possible cause of the failure. \n",
      "\u001b[1;31mClick <a href='https://aka.ms/vscodeJupyterKernelCrash'>here</a> for more info. \n",
      "\u001b[1;31mView Jupyter <a href='command:jupyter.viewOutput'>log</a> for further details."
     ]
    }
   ],
   "source": [
    "# nelement()：统计Tensor的元素个数\n",
    "#.parameters()：生成器，迭代的返回模型所有可学习的参数，生成Tensor类型的数据\n",
    "total = sum([param.nelement() for param in dcgcnn.parameters()])\n",
    "print(\"dcgcnn Number of parameter: %.2fM\" % (total/1e6))\n",
    "total = sum([param.nelement() for param in caduceus.parameters()])\n",
    "print(\"caduceus Number of parameter: %.2fM\" % (total/1e6))\n",
    "total = sum([param.nelement() for param in hyena.parameters()])\n",
    "print(\"hyena Number of parameter: %.2fM\" % (total/1e6))"
   ]
  },
  {
   "cell_type": "code",
   "execution_count": 3,
   "metadata": {},
   "outputs": [
    {
     "name": "stderr",
     "output_type": "stream",
     "text": [
      "Explicitly passing a `revision` is encouraged when loading a model with custom code to ensure no malicious code has been contributed in a newer revision.\n"
     ]
    }
   ],
   "source": [
    "from transformers import AutoModel\n",
    "from transformers.models.bert.configuration_bert import BertConfig\n",
    "\n",
    "# DNABERT2 = AutoModel.from_pretrained(\"zhihan1996/DNABERT-2-117M\", trust_remote_code=True).to(\"cuda\")\n",
    "\n",
    "config = BertConfig.from_pretrained(\"zhihan1996/DNABERT-2-117M\")\n",
    "DNABERT2 = AutoModel.from_config(config, trust_remote_code=True)"
   ]
  },
  {
   "cell_type": "code",
   "execution_count": 1,
   "metadata": {},
   "outputs": [
    {
     "data": {
      "image/png": "[encoded data removed]",
      "text/plain": [
       "<Figure size 800x500 with 1 Axes>"
      ]
     },
     "metadata": {},
     "output_type": "display_data"
    }
   ],
   "source": [
    "import matplotlib.pyplot as plt\n",
    "import numpy as np\n",
    "\n",
    "# Data\n",
    "x = np.array([10**3, 10**4, 10**5, 10**6])\n",
    "y1 = np.array([2.4725839104371232, 2.4573111497102214, 2.5031975476036816, 3.7903673580863315])\n",
    "y2 = np.array([5.150625995390467, 5.183961993183326, 5.300462119592287, 6.008886033431215])\n",
    "y3 = np.array([3.447734595798473, 3.4649952047520824, 4.1511370766441374, 5.151766024356672])\n",
    "\n",
    "\n",
    "plt.rc('font', family='serif', size=12)\n",
    "plt.rc('axes', titlesize=16, labelsize=14)\n",
    "plt.rc('xtick', labelsize=12)\n",
    "plt.rc('ytick', labelsize=12)\n",
    "plt.rc('legend', fontsize=12)\n",
    "plt.rc('figure', titlesize=16)\n",
    "\n",
    "# Create a new figure\n",
    "plt.figure(num=3, figsize=(8, 5))\n",
    "\n",
    "# Plot the first line with red color, solid line style, and circle markers\n",
    "plt.plot(x, y1, label='DNA-CNN', linestyle='-', color='orange')\n",
    "\n",
    "# Plot the second line with green color, dashed line style, and square markers\n",
    "plt.plot(x, y2, label='Caduceus', linestyle='-', color='lightgreen')\n",
    "\n",
    "# Plot the third line with blue color, dotted line style, and diamond markers\n",
    "plt.plot(x, y3, label='HyenaDNA', linestyle='-', color='skyblue')\n",
    "\n",
    "# Set labels for x and y axes\n",
    "plt.xlabel('Sequence Length', fontsize=18)\n",
    "plt.ylabel('milliseconds (log)', fontsize=18)\n",
    "\n",
    "# Set log scale for x axis\n",
    "plt.xscale('log')\n",
    "\n",
    "# Set the title of the plot\n",
    "plt.title('Runtime vs Sequence Length', fontsize=18)\n",
    "\n",
    "# Manually set major tick locations on x-axis\n",
    "plt.xticks([10**3, 10**4, 10**5, 10**6])\n",
    "\n",
    "# Show grid lines\n",
    "# plt.grid(False, which='both', linestyle='--', linewidth=0.5)\n",
    "plt.grid(False)\n",
    "\n",
    "# Show legend\n",
    "plt.legend()\n",
    "plt.savefig('runtime_vs_seqlen.png', dpi=300, bbox_inches='tight')\n",
    "\n",
    "# Show plot\n",
    "plt.show()\n"
   ]
  },
  {
   "cell_type": "code",
   "execution_count": 5,
   "metadata": {},
   "outputs": [
    {
     "data": {
      "text/plain": [
       "1.3588390501319263"
      ]
     },
     "execution_count": 5,
     "metadata": {},
     "output_type": "execute_result"
    }
   ],
   "source": [
    "5.15/3.79"
   ]
  }
 ],
 "metadata": {
  "kernelspec": {
   "display_name": "Python 3",
   "language": "python",
   "name": "python3"
  },
  "language_info": {
   "codemirror_mode": {
    "name": "ipython",
    "version": 3
   },
   "file_extension": ".py",
   "mimetype": "text/x-python",
   "name": "python",
   "nbconvert_exporter": "python",
   "pygments_lexer": "ipython3",
   "version": "3.8.19"
  }
 },
 "nbformat": 4,
 "nbformat_minor": 2
}
